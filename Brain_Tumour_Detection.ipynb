{
  "cells": [
    {
      "cell_type": "code",
      "execution_count": 2,
      "metadata": {
        "id": "zE8eYaqga6NI"
      },
      "outputs": [],
      "source": [
        "import warnings\n",
        "warnings.filterwarnings('ignore')"
      ]
    },
    {
      "cell_type": "code",
      "execution_count": 3,
      "metadata": {
        "colab": {
          "base_uri": "https://localhost:8080/"
        },
        "id": "El9jPgWWcgXh",
        "outputId": "ec9dd877-8587-48c8-8473-67751644fbf8"
      },
      "outputs": [
        {
          "output_type": "stream",
          "name": "stdout",
          "text": [
            "--2024-10-26 11:15:31--  https://www.dropbox.com/scl/fi/20yg7wsxbjw3hx7imlo3c/archive-1.zip?rlkey=qgfy9v3xb8ipo5hn89v6v5uu2\n",
            "Resolving www.dropbox.com (www.dropbox.com)... 162.125.2.18, 2620:100:6017:18::a27d:212\n",
            "Connecting to www.dropbox.com (www.dropbox.com)|162.125.2.18|:443... connected.\n",
            "HTTP request sent, awaiting response... 302 Found\n",
            "Location: https://uca93846bad6ffafa000a3229465.dl.dropboxusercontent.com/cd/0/inline/CdJCXvnFlJS2p_ligHraLkRLEYrJKr50ofrJbrIQKjhDdLzv-NkOvAHBMu7h1BsxdtbMTyxIjOjnGxMkbycBsdlp6fmDuAspHIWvBFrYUvKc2GqZSNhO-E1Ym5rGrMHukrMP43e1DO1NAFNWU8MsvRRK/file# [following]\n",
            "--2024-10-26 11:15:32--  https://uca93846bad6ffafa000a3229465.dl.dropboxusercontent.com/cd/0/inline/CdJCXvnFlJS2p_ligHraLkRLEYrJKr50ofrJbrIQKjhDdLzv-NkOvAHBMu7h1BsxdtbMTyxIjOjnGxMkbycBsdlp6fmDuAspHIWvBFrYUvKc2GqZSNhO-E1Ym5rGrMHukrMP43e1DO1NAFNWU8MsvRRK/file\n",
            "Resolving uca93846bad6ffafa000a3229465.dl.dropboxusercontent.com (uca93846bad6ffafa000a3229465.dl.dropboxusercontent.com)... 162.125.65.15, 2620:100:6017:15::a27d:20f\n",
            "Connecting to uca93846bad6ffafa000a3229465.dl.dropboxusercontent.com (uca93846bad6ffafa000a3229465.dl.dropboxusercontent.com)|162.125.65.15|:443... connected.\n",
            "HTTP request sent, awaiting response... 302 Found\n",
            "Location: /cd/0/inline2/CdJkPnov4SDsToBHEYRacjVbuNjc1Xp9IQ77fNw6B86grEpioBPx_M4iagccStD-g7UHccNZqr4rBZPOS4BSISj-17EOIYrkeyZi0RXd2kn5s8d0LtoBThp7JofiX8jDgAEfKuirN_nErpmbXkAt98V-kv4NgFo5hnv_jwAYw500l8usffHnSsFUMU6rSWumeN_ccNwEk6RyC8z9hW-3B3jIofgSUThI0flwA0wo_v82vlmvgQydSUS_DLBYwYSpnoH_wKsJjKEbO4s6pcogzqAancN222b3OmZSB6v5zsqK_iYyohzXbGid2HfRTZ4nei568hXZdnISGD-85rnbf9VQso3dpCb17DEJUnp3iK9Hf54X0BmBmFp-C9kFj_yIWNA/file [following]\n",
            "--2024-10-26 11:15:33--  https://uca93846bad6ffafa000a3229465.dl.dropboxusercontent.com/cd/0/inline2/CdJkPnov4SDsToBHEYRacjVbuNjc1Xp9IQ77fNw6B86grEpioBPx_M4iagccStD-g7UHccNZqr4rBZPOS4BSISj-17EOIYrkeyZi0RXd2kn5s8d0LtoBThp7JofiX8jDgAEfKuirN_nErpmbXkAt98V-kv4NgFo5hnv_jwAYw500l8usffHnSsFUMU6rSWumeN_ccNwEk6RyC8z9hW-3B3jIofgSUThI0flwA0wo_v82vlmvgQydSUS_DLBYwYSpnoH_wKsJjKEbO4s6pcogzqAancN222b3OmZSB6v5zsqK_iYyohzXbGid2HfRTZ4nei568hXZdnISGD-85rnbf9VQso3dpCb17DEJUnp3iK9Hf54X0BmBmFp-C9kFj_yIWNA/file\n",
            "Reusing existing connection to uca93846bad6ffafa000a3229465.dl.dropboxusercontent.com:443.\n",
            "HTTP request sent, awaiting response... 200 OK\n",
            "Length: 15828590 (15M) [application/zip]\n",
            "Saving to: ‘archive-1.zip?rlkey=qgfy9v3xb8ipo5hn89v6v5uu2’\n",
            "\n",
            "archive-1.zip?rlkey 100%[===================>]  15.09M  9.70MB/s    in 1.6s    \n",
            "\n",
            "2024-10-26 11:15:35 (9.70 MB/s) - ‘archive-1.zip?rlkey=qgfy9v3xb8ipo5hn89v6v5uu2’ saved [15828590/15828590]\n",
            "\n"
          ]
        }
      ],
      "source": [
        "#get data from\n",
        "!wget https://www.dropbox.com/scl/fi/20yg7wsxbjw3hx7imlo3c/archive-1.zip?rlkey=qgfy9v3xb8ipo5hn89v6v5uu2&st=idqsqpd2&dl=0"
      ]
    },
    {
      "cell_type": "code",
      "execution_count": 4,
      "metadata": {
        "colab": {
          "base_uri": "https://localhost:8080/"
        },
        "id": "Qygekkndd4DX",
        "outputId": "25fdcef3-68e5-4db9-c52d-c359fc41da64"
      },
      "outputs": [
        {
          "output_type": "stream",
          "name": "stdout",
          "text": [
            "Archive:  /content/archive-1.zip?rlkey=qgfy9v3xb8ipo5hn89v6v5uu2\n",
            "  inflating: brain_tumor_dataset/no/1 no.jpeg  \n",
            "  inflating: brain_tumor_dataset/no/10 no.jpg  \n",
            "  inflating: brain_tumor_dataset/no/11 no.jpg  \n",
            "  inflating: brain_tumor_dataset/no/12 no.jpg  \n",
            "  inflating: brain_tumor_dataset/no/13 no.jpg  \n",
            "  inflating: brain_tumor_dataset/no/14 no.jpg  \n",
            "  inflating: brain_tumor_dataset/no/15 no.jpg  \n",
            "  inflating: brain_tumor_dataset/no/17 no.jpg  \n",
            "  inflating: brain_tumor_dataset/no/18 no.jpg  \n",
            "  inflating: brain_tumor_dataset/no/19 no.jpg  \n",
            "  inflating: brain_tumor_dataset/no/2 no.jpeg  \n",
            "  inflating: brain_tumor_dataset/no/20 no.jpg  \n",
            "  inflating: brain_tumor_dataset/no/21 no.jpg  \n",
            "  inflating: brain_tumor_dataset/no/22 no.jpg  \n",
            "  inflating: brain_tumor_dataset/no/23 no.jpg  \n",
            "  inflating: brain_tumor_dataset/no/24 no.jpg  \n",
            "  inflating: brain_tumor_dataset/no/25 no.jpg  \n",
            "  inflating: brain_tumor_dataset/no/26 no.jpg  \n",
            "  inflating: brain_tumor_dataset/no/27 no.jpg  \n",
            "  inflating: brain_tumor_dataset/no/28 no.jpg  \n",
            "  inflating: brain_tumor_dataset/no/29 no.jpg  \n",
            "  inflating: brain_tumor_dataset/no/3 no.jpg  \n",
            "  inflating: brain_tumor_dataset/no/30 no.jpg  \n",
            "  inflating: brain_tumor_dataset/no/31 no.jpg  \n",
            "  inflating: brain_tumor_dataset/no/32 no.jpg  \n",
            "  inflating: brain_tumor_dataset/no/33 no.jpg  \n",
            "  inflating: brain_tumor_dataset/no/34 no.jpg  \n",
            "  inflating: brain_tumor_dataset/no/35 no.jpg  \n",
            "  inflating: brain_tumor_dataset/no/36 no.jpg  \n",
            "  inflating: brain_tumor_dataset/no/37 no.jpg  \n",
            "  inflating: brain_tumor_dataset/no/38 no.jpg  \n",
            "  inflating: brain_tumor_dataset/no/39 no.jpg  \n",
            "  inflating: brain_tumor_dataset/no/4 no.jpg  \n",
            "  inflating: brain_tumor_dataset/no/40 no.jpg  \n",
            "  inflating: brain_tumor_dataset/no/41 no.jpg  \n",
            "  inflating: brain_tumor_dataset/no/42 no.jpg  \n",
            "  inflating: brain_tumor_dataset/no/43 no.jpg  \n",
            "  inflating: brain_tumor_dataset/no/44no.jpg  \n",
            "  inflating: brain_tumor_dataset/no/45 no.jpg  \n",
            "  inflating: brain_tumor_dataset/no/46 no.jpg  \n",
            "  inflating: brain_tumor_dataset/no/47 no.jpg  \n",
            "  inflating: brain_tumor_dataset/no/48 no.jpeg  \n",
            "  inflating: brain_tumor_dataset/no/49 no.jpg  \n",
            "  inflating: brain_tumor_dataset/no/5 no.jpg  \n",
            "  inflating: brain_tumor_dataset/no/50 no.jpg  \n",
            "  inflating: brain_tumor_dataset/no/6 no.jpg  \n",
            "  inflating: brain_tumor_dataset/no/7 no.jpg  \n",
            "  inflating: brain_tumor_dataset/no/8 no.jpg  \n",
            "  inflating: brain_tumor_dataset/no/9 no.jpg  \n",
            "  inflating: brain_tumor_dataset/no/N1.JPG  \n",
            "  inflating: brain_tumor_dataset/no/N11.jpg  \n",
            "  inflating: brain_tumor_dataset/no/N15.jpg  \n",
            "  inflating: brain_tumor_dataset/no/N16.jpg  \n",
            "  inflating: brain_tumor_dataset/no/N17.jpg  \n",
            "  inflating: brain_tumor_dataset/no/N19.JPG  \n",
            "  inflating: brain_tumor_dataset/no/N2.JPG  \n",
            "  inflating: brain_tumor_dataset/no/N20.JPG  \n",
            "  inflating: brain_tumor_dataset/no/N21.jpg  \n",
            "  inflating: brain_tumor_dataset/no/N22.JPG  \n",
            "  inflating: brain_tumor_dataset/no/N26.JPG  \n",
            "  inflating: brain_tumor_dataset/no/N3.jpg  \n",
            "  inflating: brain_tumor_dataset/no/N5.jpg  \n",
            "  inflating: brain_tumor_dataset/no/N6.jpg  \n",
            "  inflating: brain_tumor_dataset/no/No11.jpg  \n",
            "  inflating: brain_tumor_dataset/no/No12.jpg  \n",
            "  inflating: brain_tumor_dataset/no/No13.jpg  \n",
            "  inflating: brain_tumor_dataset/no/No14.jpg  \n",
            "  inflating: brain_tumor_dataset/no/No15.jpg  \n",
            "  inflating: brain_tumor_dataset/no/No16.jpg  \n",
            "  inflating: brain_tumor_dataset/no/No17.jpg  \n",
            "  inflating: brain_tumor_dataset/no/No18.jpg  \n",
            "  inflating: brain_tumor_dataset/no/No19.jpg  \n",
            "  inflating: brain_tumor_dataset/no/No20.jpg  \n",
            "  inflating: brain_tumor_dataset/no/No21.jpg  \n",
            "  inflating: brain_tumor_dataset/no/No22.jpg  \n",
            "  inflating: brain_tumor_dataset/no/no 1.jpg  \n",
            "  inflating: brain_tumor_dataset/no/no 10.jpg  \n",
            "  inflating: brain_tumor_dataset/no/no 100.jpg  \n",
            "  inflating: brain_tumor_dataset/no/no 2.jpg  \n",
            "  inflating: brain_tumor_dataset/no/no 3.jpg  \n",
            "  inflating: brain_tumor_dataset/no/no 4.jpg  \n",
            "  inflating: brain_tumor_dataset/no/no 5.jpeg  \n",
            "  inflating: brain_tumor_dataset/no/no 6.jpg  \n",
            "  inflating: brain_tumor_dataset/no/no 7.jpeg  \n",
            "  inflating: brain_tumor_dataset/no/no 8.jpg  \n",
            "  inflating: brain_tumor_dataset/no/no 89.jpg  \n",
            "  inflating: brain_tumor_dataset/no/no 9.png  \n",
            "  inflating: brain_tumor_dataset/no/no 90.jpg  \n",
            "  inflating: brain_tumor_dataset/no/no 91.jpeg  \n",
            "  inflating: brain_tumor_dataset/no/no 92.jpg  \n",
            "  inflating: brain_tumor_dataset/no/no 923.jpg  \n",
            "  inflating: brain_tumor_dataset/no/no 94.jpg  \n",
            "  inflating: brain_tumor_dataset/no/no 95.jpg  \n",
            "  inflating: brain_tumor_dataset/no/no 96.jpg  \n",
            "  inflating: brain_tumor_dataset/no/no 97.jpg  \n",
            "  inflating: brain_tumor_dataset/no/no 98.jpg  \n",
            "  inflating: brain_tumor_dataset/no/no 99.jpg  \n",
            "  inflating: brain_tumor_dataset/no/no.jpg  \n",
            "  inflating: brain_tumor_dataset/yes/Y1.jpg  \n",
            "  inflating: brain_tumor_dataset/yes/Y10.jpg  \n",
            "  inflating: brain_tumor_dataset/yes/Y100.JPG  \n",
            "  inflating: brain_tumor_dataset/yes/Y101.jpg  \n",
            "  inflating: brain_tumor_dataset/yes/Y102.jpg  \n",
            "  inflating: brain_tumor_dataset/yes/Y103.jpg  \n",
            "  inflating: brain_tumor_dataset/yes/Y104.jpg  \n",
            "  inflating: brain_tumor_dataset/yes/Y105.jpg  \n",
            "  inflating: brain_tumor_dataset/yes/Y106.jpg  \n",
            "  inflating: brain_tumor_dataset/yes/Y107.jpg  \n",
            "  inflating: brain_tumor_dataset/yes/Y108.jpg  \n",
            "  inflating: brain_tumor_dataset/yes/Y109.JPG  \n",
            "  inflating: brain_tumor_dataset/yes/Y11.jpg  \n",
            "  inflating: brain_tumor_dataset/yes/Y111.JPG  \n",
            "  inflating: brain_tumor_dataset/yes/Y112.JPG  \n",
            "  inflating: brain_tumor_dataset/yes/Y113.JPG  \n",
            "  inflating: brain_tumor_dataset/yes/Y114.JPG  \n",
            "  inflating: brain_tumor_dataset/yes/Y115.JPG  \n",
            "  inflating: brain_tumor_dataset/yes/Y116.JPG  \n",
            "  inflating: brain_tumor_dataset/yes/Y117.JPG  \n",
            "  inflating: brain_tumor_dataset/yes/Y12.jpg  \n",
            "  inflating: brain_tumor_dataset/yes/Y120.JPG  \n",
            "  inflating: brain_tumor_dataset/yes/Y13.jpg  \n",
            "  inflating: brain_tumor_dataset/yes/Y14.jpg  \n",
            "  inflating: brain_tumor_dataset/yes/Y146.JPG  \n",
            "  inflating: brain_tumor_dataset/yes/Y147.JPG  \n",
            "  inflating: brain_tumor_dataset/yes/Y148.JPG  \n",
            "  inflating: brain_tumor_dataset/yes/Y15.jpg  \n",
            "  inflating: brain_tumor_dataset/yes/Y153.jpg  \n",
            "  inflating: brain_tumor_dataset/yes/Y154.jpg  \n",
            "  inflating: brain_tumor_dataset/yes/Y155.JPG  \n",
            "  inflating: brain_tumor_dataset/yes/Y156.JPG  \n",
            "  inflating: brain_tumor_dataset/yes/Y157.JPG  \n",
            "  inflating: brain_tumor_dataset/yes/Y158.JPG  \n",
            "  inflating: brain_tumor_dataset/yes/Y159.JPG  \n",
            "  inflating: brain_tumor_dataset/yes/Y16.JPG  \n",
            "  inflating: brain_tumor_dataset/yes/Y160.JPG  \n",
            "  inflating: brain_tumor_dataset/yes/Y161.JPG  \n",
            "  inflating: brain_tumor_dataset/yes/Y162.jpg  \n",
            "  inflating: brain_tumor_dataset/yes/Y163.JPG  \n",
            "  inflating: brain_tumor_dataset/yes/Y164.JPG  \n",
            "  inflating: brain_tumor_dataset/yes/Y165.JPG  \n",
            "  inflating: brain_tumor_dataset/yes/Y166.JPG  \n",
            "  inflating: brain_tumor_dataset/yes/Y167.JPG  \n",
            "  inflating: brain_tumor_dataset/yes/Y168.jpg  \n",
            "  inflating: brain_tumor_dataset/yes/Y169.jpg  \n",
            "  inflating: brain_tumor_dataset/yes/Y17.jpg  \n",
            "  inflating: brain_tumor_dataset/yes/Y170.JPG  \n",
            "  inflating: brain_tumor_dataset/yes/Y18.JPG  \n",
            "  inflating: brain_tumor_dataset/yes/Y180.jpg  \n",
            "  inflating: brain_tumor_dataset/yes/Y181.jpg  \n",
            "  inflating: brain_tumor_dataset/yes/Y182.JPG  \n",
            "  inflating: brain_tumor_dataset/yes/Y183.jpg  \n",
            "  inflating: brain_tumor_dataset/yes/Y184.JPG  \n",
            "  inflating: brain_tumor_dataset/yes/Y185.jpg  \n",
            "  inflating: brain_tumor_dataset/yes/Y186.jpg  \n",
            "  inflating: brain_tumor_dataset/yes/Y187.jpg  \n",
            "  inflating: brain_tumor_dataset/yes/Y188.jpg  \n",
            "  inflating: brain_tumor_dataset/yes/Y19.JPG  \n",
            "  inflating: brain_tumor_dataset/yes/Y192.JPG  \n",
            "  inflating: brain_tumor_dataset/yes/Y193.JPG  \n",
            "  inflating: brain_tumor_dataset/yes/Y194.jpg  \n",
            "  inflating: brain_tumor_dataset/yes/Y195.JPG  \n",
            "  inflating: brain_tumor_dataset/yes/Y2.jpg  \n",
            "  inflating: brain_tumor_dataset/yes/Y20.jpg  \n",
            "  inflating: brain_tumor_dataset/yes/Y21.jpg  \n",
            "  inflating: brain_tumor_dataset/yes/Y22.jpg  \n",
            "  inflating: brain_tumor_dataset/yes/Y23.JPG  \n",
            "  inflating: brain_tumor_dataset/yes/Y24.jpg  \n",
            "  inflating: brain_tumor_dataset/yes/Y242.JPG  \n",
            "  inflating: brain_tumor_dataset/yes/Y243.JPG  \n",
            "  inflating: brain_tumor_dataset/yes/Y244.JPG  \n",
            "  inflating: brain_tumor_dataset/yes/Y245.jpg  \n",
            "  inflating: brain_tumor_dataset/yes/Y246.JPG  \n",
            "  inflating: brain_tumor_dataset/yes/Y247.JPG  \n",
            "  inflating: brain_tumor_dataset/yes/Y248.JPG  \n",
            "  inflating: brain_tumor_dataset/yes/Y249.JPG  \n",
            "  inflating: brain_tumor_dataset/yes/Y25.jpg  \n",
            "  inflating: brain_tumor_dataset/yes/Y250.jpg  \n",
            "  inflating: brain_tumor_dataset/yes/Y251.JPG  \n",
            "  inflating: brain_tumor_dataset/yes/Y252.jpg  \n",
            "  inflating: brain_tumor_dataset/yes/Y253.JPG  \n",
            "  inflating: brain_tumor_dataset/yes/Y254.jpg  \n",
            "  inflating: brain_tumor_dataset/yes/Y255.JPG  \n",
            "  inflating: brain_tumor_dataset/yes/Y256.JPG  \n",
            "  inflating: brain_tumor_dataset/yes/Y257.jpg  \n",
            "  inflating: brain_tumor_dataset/yes/Y258.JPG  \n",
            "  inflating: brain_tumor_dataset/yes/Y259.JPG  \n",
            "  inflating: brain_tumor_dataset/yes/Y26.jpg  \n",
            "  inflating: brain_tumor_dataset/yes/Y27.jpg  \n",
            "  inflating: brain_tumor_dataset/yes/Y28.jpg  \n",
            "  inflating: brain_tumor_dataset/yes/Y29.jpg  \n",
            "  inflating: brain_tumor_dataset/yes/Y3.jpg  \n",
            "  inflating: brain_tumor_dataset/yes/Y30.jpg  \n",
            "  inflating: brain_tumor_dataset/yes/Y31.jpg  \n",
            "  inflating: brain_tumor_dataset/yes/Y32.jpg  \n",
            "  inflating: brain_tumor_dataset/yes/Y33.jpg  \n",
            "  inflating: brain_tumor_dataset/yes/Y34.jpg  \n",
            "  inflating: brain_tumor_dataset/yes/Y35.jpg  \n",
            "  inflating: brain_tumor_dataset/yes/Y36.JPG  \n",
            "  inflating: brain_tumor_dataset/yes/Y37.jpg  \n",
            "  inflating: brain_tumor_dataset/yes/Y38.jpg  \n",
            "  inflating: brain_tumor_dataset/yes/Y39.jpg  \n",
            "  inflating: brain_tumor_dataset/yes/Y4.jpg  \n",
            "  inflating: brain_tumor_dataset/yes/Y40.JPG  \n",
            "  inflating: brain_tumor_dataset/yes/Y41.jpg  \n",
            "  inflating: brain_tumor_dataset/yes/Y42.jpg  \n",
            "  inflating: brain_tumor_dataset/yes/Y44.JPG  \n",
            "  inflating: brain_tumor_dataset/yes/Y45.JPG  \n",
            "  inflating: brain_tumor_dataset/yes/Y46.jpg  \n",
            "  inflating: brain_tumor_dataset/yes/Y47.JPG  \n",
            "  inflating: brain_tumor_dataset/yes/Y49.JPG  \n",
            "  inflating: brain_tumor_dataset/yes/Y50.JPG  \n",
            "  inflating: brain_tumor_dataset/yes/Y51.jpg  \n",
            "  inflating: brain_tumor_dataset/yes/Y52.jpg  \n",
            "  inflating: brain_tumor_dataset/yes/Y53.jpg  \n",
            "  inflating: brain_tumor_dataset/yes/Y54.jpg  \n",
            "  inflating: brain_tumor_dataset/yes/Y55.jpg  \n",
            "  inflating: brain_tumor_dataset/yes/Y56.jpg  \n",
            "  inflating: brain_tumor_dataset/yes/Y58.JPG  \n",
            "  inflating: brain_tumor_dataset/yes/Y59.JPG  \n",
            "  inflating: brain_tumor_dataset/yes/Y6.jpg  \n",
            "  inflating: brain_tumor_dataset/yes/Y60.jpg  \n",
            "  inflating: brain_tumor_dataset/yes/Y61.jpg  \n",
            "  inflating: brain_tumor_dataset/yes/Y62.jpg  \n",
            "  inflating: brain_tumor_dataset/yes/Y65.JPG  \n",
            "  inflating: brain_tumor_dataset/yes/Y66.JPG  \n",
            "  inflating: brain_tumor_dataset/yes/Y67.JPG  \n",
            "  inflating: brain_tumor_dataset/yes/Y69.jpg  \n",
            "  inflating: brain_tumor_dataset/yes/Y7.jpg  \n",
            "  inflating: brain_tumor_dataset/yes/Y70.jpg  \n",
            "  inflating: brain_tumor_dataset/yes/Y71.JPG  \n",
            "  inflating: brain_tumor_dataset/yes/Y73.jpg  \n",
            "  inflating: brain_tumor_dataset/yes/Y74.jpg  \n",
            "  inflating: brain_tumor_dataset/yes/Y75.JPG  \n",
            "  inflating: brain_tumor_dataset/yes/Y76.jpg  \n",
            "  inflating: brain_tumor_dataset/yes/Y77.jpg  \n",
            "  inflating: brain_tumor_dataset/yes/Y78.jpg  \n",
            "  inflating: brain_tumor_dataset/yes/Y79.jpg  \n",
            "  inflating: brain_tumor_dataset/yes/Y8.jpg  \n",
            "  inflating: brain_tumor_dataset/yes/Y81.jpg  \n",
            "  inflating: brain_tumor_dataset/yes/Y82.jpg  \n",
            "  inflating: brain_tumor_dataset/yes/Y85.JPG  \n",
            "  inflating: brain_tumor_dataset/yes/Y86.JPG  \n",
            "  inflating: brain_tumor_dataset/yes/Y89.JPG  \n",
            "  inflating: brain_tumor_dataset/yes/Y9.jpg  \n",
            "  inflating: brain_tumor_dataset/yes/Y90.jpg  \n",
            "  inflating: brain_tumor_dataset/yes/Y91.jpg  \n",
            "  inflating: brain_tumor_dataset/yes/Y92.jpg  \n",
            "  inflating: brain_tumor_dataset/yes/Y92.png  \n",
            "  inflating: brain_tumor_dataset/yes/Y95.jpg  \n",
            "  inflating: brain_tumor_dataset/yes/Y96.jpg  \n",
            "  inflating: brain_tumor_dataset/yes/Y97.JPG  \n",
            "  inflating: brain_tumor_dataset/yes/Y98.JPG  \n",
            "  inflating: brain_tumor_dataset/yes/Y99.JPG  \n",
            "  inflating: no/1 no.jpeg            \n",
            "  inflating: no/10 no.jpg            \n",
            "  inflating: no/11 no.jpg            \n",
            "  inflating: no/12 no.jpg            \n",
            "  inflating: no/13 no.jpg            \n",
            "  inflating: no/14 no.jpg            \n",
            "  inflating: no/15 no.jpg            \n",
            "  inflating: no/17 no.jpg            \n",
            "  inflating: no/18 no.jpg            \n",
            "  inflating: no/19 no.jpg            \n",
            "  inflating: no/2 no.jpeg            \n",
            "  inflating: no/20 no.jpg            \n",
            "  inflating: no/21 no.jpg            \n",
            "  inflating: no/22 no.jpg            \n",
            "  inflating: no/23 no.jpg            \n",
            "  inflating: no/24 no.jpg            \n",
            "  inflating: no/25 no.jpg            \n",
            "  inflating: no/26 no.jpg            \n",
            "  inflating: no/27 no.jpg            \n",
            "  inflating: no/28 no.jpg            \n",
            "  inflating: no/29 no.jpg            \n",
            "  inflating: no/3 no.jpg             \n",
            "  inflating: no/30 no.jpg            \n",
            "  inflating: no/31 no.jpg            \n",
            "  inflating: no/32 no.jpg            \n",
            "  inflating: no/33 no.jpg            \n",
            "  inflating: no/34 no.jpg            \n",
            "  inflating: no/35 no.jpg            \n",
            "  inflating: no/36 no.jpg            \n",
            "  inflating: no/37 no.jpg            \n",
            "  inflating: no/38 no.jpg            \n",
            "  inflating: no/39 no.jpg            \n",
            "  inflating: no/4 no.jpg             \n",
            "  inflating: no/40 no.jpg            \n",
            "  inflating: no/41 no.jpg            \n",
            "  inflating: no/42 no.jpg            \n",
            "  inflating: no/43 no.jpg            \n",
            "  inflating: no/44no.jpg             \n",
            "  inflating: no/45 no.jpg            \n",
            "  inflating: no/46 no.jpg            \n",
            "  inflating: no/47 no.jpg            \n",
            "  inflating: no/48 no.jpeg           \n",
            "  inflating: no/49 no.jpg            \n",
            "  inflating: no/5 no.jpg             \n",
            "  inflating: no/50 no.jpg            \n",
            "  inflating: no/6 no.jpg             \n",
            "  inflating: no/7 no.jpg             \n",
            "  inflating: no/8 no.jpg             \n",
            "  inflating: no/9 no.jpg             \n",
            "  inflating: no/N1.JPG               \n",
            "  inflating: no/N11.jpg              \n",
            "  inflating: no/N15.jpg              \n",
            "  inflating: no/N16.jpg              \n",
            "  inflating: no/N17.jpg              \n",
            "  inflating: no/N19.JPG              \n",
            "  inflating: no/N2.JPG               \n",
            "  inflating: no/N20.JPG              \n",
            "  inflating: no/N21.jpg              \n",
            "  inflating: no/N22.JPG              \n",
            "  inflating: no/N26.JPG              \n",
            "  inflating: no/N3.jpg               \n",
            "  inflating: no/N5.jpg               \n",
            "  inflating: no/N6.jpg               \n",
            "  inflating: no/No11.jpg             \n",
            "  inflating: no/No12.jpg             \n",
            "  inflating: no/No13.jpg             \n",
            "  inflating: no/No14.jpg             \n",
            "  inflating: no/No15.jpg             \n",
            "  inflating: no/No16.jpg             \n",
            "  inflating: no/No17.jpg             \n",
            "  inflating: no/No18.jpg             \n",
            "  inflating: no/No19.jpg             \n",
            "  inflating: no/No20.jpg             \n",
            "  inflating: no/No21.jpg             \n",
            "  inflating: no/No22.jpg             \n",
            "  inflating: no/no 1.jpg             \n",
            "  inflating: no/no 10.jpg            \n",
            "  inflating: no/no 100.jpg           \n",
            "  inflating: no/no 2.jpg             \n",
            "  inflating: no/no 3.jpg             \n",
            "  inflating: no/no 4.jpg             \n",
            "  inflating: no/no 5.jpeg            \n",
            "  inflating: no/no 6.jpg             \n",
            "  inflating: no/no 7.jpeg            \n",
            "  inflating: no/no 8.jpg             \n",
            "  inflating: no/no 89.jpg            \n",
            "  inflating: no/no 9.png             \n",
            "  inflating: no/no 90.jpg            \n",
            "  inflating: no/no 91.jpeg           \n",
            "  inflating: no/no 92.jpg            \n",
            "  inflating: no/no 923.jpg           \n",
            "  inflating: no/no 94.jpg            \n",
            "  inflating: no/no 95.jpg            \n",
            "  inflating: no/no 96.jpg            \n",
            "  inflating: no/no 97.jpg            \n",
            "  inflating: no/no 98.jpg            \n",
            "  inflating: no/no 99.jpg            \n",
            "  inflating: no/no.jpg               \n",
            "  inflating: yes/Y1.jpg              \n",
            "  inflating: yes/Y10.jpg             \n",
            "  inflating: yes/Y100.JPG            \n",
            "  inflating: yes/Y101.jpg            \n",
            "  inflating: yes/Y102.jpg            \n",
            "  inflating: yes/Y103.jpg            \n",
            "  inflating: yes/Y104.jpg            \n",
            "  inflating: yes/Y105.jpg            \n",
            "  inflating: yes/Y106.jpg            \n",
            "  inflating: yes/Y107.jpg            \n",
            "  inflating: yes/Y108.jpg            \n",
            "  inflating: yes/Y109.JPG            \n",
            "  inflating: yes/Y11.jpg             \n",
            "  inflating: yes/Y111.JPG            \n",
            "  inflating: yes/Y112.JPG            \n",
            "  inflating: yes/Y113.JPG            \n",
            "  inflating: yes/Y114.JPG            \n",
            "  inflating: yes/Y115.JPG            \n",
            "  inflating: yes/Y116.JPG            \n",
            "  inflating: yes/Y117.JPG            \n",
            "  inflating: yes/Y12.jpg             \n",
            "  inflating: yes/Y120.JPG            \n",
            "  inflating: yes/Y13.jpg             \n",
            "  inflating: yes/Y14.jpg             \n",
            "  inflating: yes/Y146.JPG            \n",
            "  inflating: yes/Y147.JPG            \n",
            "  inflating: yes/Y148.JPG            \n",
            "  inflating: yes/Y15.jpg             \n",
            "  inflating: yes/Y153.jpg            \n",
            "  inflating: yes/Y154.jpg            \n",
            "  inflating: yes/Y155.JPG            \n",
            "  inflating: yes/Y156.JPG            \n",
            "  inflating: yes/Y157.JPG            \n",
            "  inflating: yes/Y158.JPG            \n",
            "  inflating: yes/Y159.JPG            \n",
            "  inflating: yes/Y16.JPG             \n",
            "  inflating: yes/Y160.JPG            \n",
            "  inflating: yes/Y161.JPG            \n",
            "  inflating: yes/Y162.jpg            \n",
            "  inflating: yes/Y163.JPG            \n",
            "  inflating: yes/Y164.JPG            \n",
            "  inflating: yes/Y165.JPG            \n",
            "  inflating: yes/Y166.JPG            \n",
            "  inflating: yes/Y167.JPG            \n",
            "  inflating: yes/Y168.jpg            \n",
            "  inflating: yes/Y169.jpg            \n",
            "  inflating: yes/Y17.jpg             \n",
            "  inflating: yes/Y170.JPG            \n",
            "  inflating: yes/Y18.JPG             \n",
            "  inflating: yes/Y180.jpg            \n",
            "  inflating: yes/Y181.jpg            \n",
            "  inflating: yes/Y182.JPG            \n",
            "  inflating: yes/Y183.jpg            \n",
            "  inflating: yes/Y184.JPG            \n",
            "  inflating: yes/Y185.jpg            \n",
            "  inflating: yes/Y186.jpg            \n",
            "  inflating: yes/Y187.jpg            \n",
            "  inflating: yes/Y188.jpg            \n",
            "  inflating: yes/Y19.JPG             \n",
            "  inflating: yes/Y192.JPG            \n",
            "  inflating: yes/Y193.JPG            \n",
            "  inflating: yes/Y194.jpg            \n",
            "  inflating: yes/Y195.JPG            \n",
            "  inflating: yes/Y2.jpg              \n",
            "  inflating: yes/Y20.jpg             \n",
            "  inflating: yes/Y21.jpg             \n",
            "  inflating: yes/Y22.jpg             \n",
            "  inflating: yes/Y23.JPG             \n",
            "  inflating: yes/Y24.jpg             \n",
            "  inflating: yes/Y242.JPG            \n",
            "  inflating: yes/Y243.JPG            \n",
            "  inflating: yes/Y244.JPG            \n",
            "  inflating: yes/Y245.jpg            \n",
            "  inflating: yes/Y246.JPG            \n",
            "  inflating: yes/Y247.JPG            \n",
            "  inflating: yes/Y248.JPG            \n",
            "  inflating: yes/Y249.JPG            \n",
            "  inflating: yes/Y25.jpg             \n",
            "  inflating: yes/Y250.jpg            \n",
            "  inflating: yes/Y251.JPG            \n",
            "  inflating: yes/Y252.jpg            \n",
            "  inflating: yes/Y253.JPG            \n",
            "  inflating: yes/Y254.jpg            \n",
            "  inflating: yes/Y255.JPG            \n",
            "  inflating: yes/Y256.JPG            \n",
            "  inflating: yes/Y257.jpg            \n",
            "  inflating: yes/Y258.JPG            \n",
            "  inflating: yes/Y259.JPG            \n",
            "  inflating: yes/Y26.jpg             \n",
            "  inflating: yes/Y27.jpg             \n",
            "  inflating: yes/Y28.jpg             \n",
            "  inflating: yes/Y29.jpg             \n",
            "  inflating: yes/Y3.jpg              \n",
            "  inflating: yes/Y30.jpg             \n",
            "  inflating: yes/Y31.jpg             \n",
            "  inflating: yes/Y32.jpg             \n",
            "  inflating: yes/Y33.jpg             \n",
            "  inflating: yes/Y34.jpg             \n",
            "  inflating: yes/Y35.jpg             \n",
            "  inflating: yes/Y36.JPG             \n",
            "  inflating: yes/Y37.jpg             \n",
            "  inflating: yes/Y38.jpg             \n",
            "  inflating: yes/Y39.jpg             \n",
            "  inflating: yes/Y4.jpg              \n",
            "  inflating: yes/Y40.JPG             \n",
            "  inflating: yes/Y41.jpg             \n",
            "  inflating: yes/Y42.jpg             \n",
            "  inflating: yes/Y44.JPG             \n",
            "  inflating: yes/Y45.JPG             \n",
            "  inflating: yes/Y46.jpg             \n",
            "  inflating: yes/Y47.JPG             \n",
            "  inflating: yes/Y49.JPG             \n",
            "  inflating: yes/Y50.JPG             \n",
            "  inflating: yes/Y51.jpg             \n",
            "  inflating: yes/Y52.jpg             \n",
            "  inflating: yes/Y53.jpg             \n",
            "  inflating: yes/Y54.jpg             \n",
            "  inflating: yes/Y55.jpg             \n",
            "  inflating: yes/Y56.jpg             \n",
            "  inflating: yes/Y58.JPG             \n",
            "  inflating: yes/Y59.JPG             \n",
            "  inflating: yes/Y6.jpg              \n",
            "  inflating: yes/Y60.jpg             \n",
            "  inflating: yes/Y61.jpg             \n",
            "  inflating: yes/Y62.jpg             \n",
            "  inflating: yes/Y65.JPG             \n",
            "  inflating: yes/Y66.JPG             \n",
            "  inflating: yes/Y67.JPG             \n",
            "  inflating: yes/Y69.jpg             \n",
            "  inflating: yes/Y7.jpg              \n",
            "  inflating: yes/Y70.jpg             \n",
            "  inflating: yes/Y71.JPG             \n",
            "  inflating: yes/Y73.jpg             \n",
            "  inflating: yes/Y74.jpg             \n",
            "  inflating: yes/Y75.JPG             \n",
            "  inflating: yes/Y76.jpg             \n",
            "  inflating: yes/Y77.jpg             \n",
            "  inflating: yes/Y78.jpg             \n",
            "  inflating: yes/Y79.jpg             \n",
            "  inflating: yes/Y8.jpg              \n",
            "  inflating: yes/Y81.jpg             \n",
            "  inflating: yes/Y82.jpg             \n",
            "  inflating: yes/Y85.JPG             \n",
            "  inflating: yes/Y86.JPG             \n",
            "  inflating: yes/Y89.JPG             \n",
            "  inflating: yes/Y9.jpg              \n",
            "  inflating: yes/Y90.jpg             \n",
            "  inflating: yes/Y91.jpg             \n",
            "  inflating: yes/Y92.jpg             \n",
            "  inflating: yes/Y92.png             \n",
            "  inflating: yes/Y95.jpg             \n",
            "  inflating: yes/Y96.jpg             \n",
            "  inflating: yes/Y97.JPG             \n",
            "  inflating: yes/Y98.JPG             \n",
            "  inflating: yes/Y99.JPG             \n"
          ]
        }
      ],
      "source": [
        "!unzip /content/archive-1.zip?rlkey=qgfy9v3xb8ipo5hn89v6v5uu2"
      ]
    },
    {
      "cell_type": "code",
      "execution_count": 10,
      "metadata": {
        "id": "6SFiu4zobrSV"
      },
      "outputs": [],
      "source": [
        "import numpy as np\n",
        "import pandas as pd\n",
        "import seaborn as sns\n",
        "import matplotlib.pyplot as plt\n",
        "import os\n",
        "import math\n",
        "import shutil\n",
        "import glob"
      ]
    },
    {
      "cell_type": "code",
      "source": [
        "#count the number of images in the respective classes 0-Brain Tumor 1- Healthy\n",
        "ROOT_DIR=\"/content/brain_tumor_dataset\"\n",
        "number_of_images={}\n",
        "\n",
        "for dir in os.listdir(ROOT_DIR):\n",
        "  number_of_images[dir]=len(os.listdir(os.path.join(ROOT_DIR,dir)))\n",
        "\n",
        "number_of_images.items()\n"
      ],
      "metadata": {
        "id": "hy6XvUuQ61TR",
        "colab": {
          "base_uri": "https://localhost:8080/"
        },
        "outputId": "763e197c-d36e-4ccd-bd73-922569fbf25c"
      },
      "execution_count": 6,
      "outputs": [
        {
          "output_type": "execute_result",
          "data": {
            "text/plain": [
              "dict_items([('no', 98), ('yes', 155)])"
            ]
          },
          "metadata": {},
          "execution_count": 6
        }
      ]
    },
    {
      "cell_type": "code",
      "source": [
        "os.listdir(\"/content/brain_tumor_dataset\")"
      ],
      "metadata": {
        "id": "Cn5deYRrC0KC",
        "colab": {
          "base_uri": "https://localhost:8080/"
        },
        "outputId": "eeaef80f-f1e0-4b01-f312-9f4a1c72d5ea"
      },
      "execution_count": 7,
      "outputs": [
        {
          "output_type": "execute_result",
          "data": {
            "text/plain": [
              "['no', 'yes']"
            ]
          },
          "metadata": {},
          "execution_count": 7
        }
      ]
    },
    {
      "cell_type": "code",
      "source": [
        "len(os.listdir(\"/content/brain_tumor_dataset\"))"
      ],
      "metadata": {
        "id": "mXRCvgefFsBO",
        "colab": {
          "base_uri": "https://localhost:8080/"
        },
        "outputId": "6c95ef03-10bb-43e9-b58d-691ecea52a1d"
      },
      "execution_count": 8,
      "outputs": [
        {
          "output_type": "execute_result",
          "data": {
            "text/plain": [
              "2"
            ]
          },
          "metadata": {},
          "execution_count": 8
        }
      ]
    },
    {
      "cell_type": "markdown",
      "metadata": {
        "id": "HatBlgWUnsEq"
      },
      "source": [
        "\n",
        "\n",
        "# we will split the data such that\n",
        "* 70% for Train Data\n",
        "* 15% for Validation Data\n",
        "* 15% for Test Data\n",
        "\n"
      ]
    },
    {
      "cell_type": "code",
      "execution_count": 11,
      "metadata": {
        "id": "tuYWh1DrnTdb",
        "colab": {
          "base_uri": "https://localhost:8080/"
        },
        "outputId": "ee422ea3-567d-48d1-dce0-2b455c0268bd"
      },
      "outputs": [
        {
          "output_type": "stream",
          "name": "stdout",
          "text": [
            "Train Folder Exists\n"
          ]
        }
      ],
      "source": [
        "# we will create a train folder\n",
        "\n",
        "\n",
        "if not os.path.exists(\"./train\"):\n",
        "  os.mkdir(\"./train\")\n",
        "\n",
        "  for dir in os.listdir(ROOT_DIR):\n",
        "    os.makedirs(\"./train/\"+dir)\n",
        "\n",
        "    for img in np.random.choice(a=os.listdir(os.path.join(ROOT_DIR,dir)),size=(math.floor(70/100*number_of_images[dir])-5),\n",
        "                                replace=False):\n",
        "      O=os.path.join(ROOT_DIR,dir,img) #path\n",
        "      D=os.path.join(\"./train\",dir)\n",
        "      shutil.copy(O,D)\n",
        "      #os.remove(0)\n",
        "else:\n",
        "  print(\"Train Folder Exists\")\n",
        "\n"
      ]
    },
    {
      "cell_type": "code",
      "execution_count": 12,
      "metadata": {
        "id": "hQmpcBJitc58"
      },
      "outputs": [],
      "source": [
        "def dataFolder(p,split):\n",
        "  # we will create a train folder\n",
        "\n",
        " if not os.path.exists(\"./\"+p):\n",
        "  os.mkdir(\"./\"+p)\n",
        "\n",
        "  for dir in os.listdir(ROOT_DIR):\n",
        "    os.makedirs(os.path.join(\"./\"+ p,dir))\n",
        "\n",
        "    for img in np.random.choice(a=os.listdir(os.path.join(ROOT_DIR,dir)),\n",
        "                                size=(math.floor(split*number_of_images[dir])-5),\n",
        "                                replace=False):\n",
        "      O=os.path.join(ROOT_DIR,dir,img) #path\n",
        "      D=os.path.join(\"./\"+p,dir)\n",
        "      shutil.copy(O,D)\n",
        "      #os.remove(0)\n",
        " else:\n",
        "  print(f\"{p} Folder Exists\")"
      ]
    },
    {
      "cell_type": "code",
      "execution_count": 30,
      "metadata": {
        "id": "6obMa4unuhgR",
        "colab": {
          "base_uri": "https://localhost:8080/"
        },
        "outputId": "5c53aa28-cd23-4d33-a1d1-890f9edfe02d"
      },
      "outputs": [
        {
          "output_type": "stream",
          "name": "stdout",
          "text": [
            "train Folder Exists\n"
          ]
        }
      ],
      "source": [
        "dataFolder(\"train\", 0.7)"
      ]
    },
    {
      "cell_type": "code",
      "execution_count": 31,
      "metadata": {
        "id": "V8-BoK6mvJDj"
      },
      "outputs": [],
      "source": [
        "dataFolder(\"val\",0.15)"
      ]
    },
    {
      "cell_type": "markdown",
      "source": [],
      "metadata": {
        "id": "1NcvwzZ6JZow"
      }
    },
    {
      "cell_type": "code",
      "execution_count": 13,
      "metadata": {
        "id": "VHbzTjXGvei6"
      },
      "outputs": [],
      "source": [
        "dataFolder(\"test\",0.15)"
      ]
    },
    {
      "cell_type": "markdown",
      "source": [
        "Model Build"
      ],
      "metadata": {
        "id": "iYmKJTvpJb1l"
      }
    },
    {
      "cell_type": "code",
      "source": [
        "import tensorflow as tf\n",
        "from tensorflow.keras.layers import Conv2D,MaxPooling2D,Dropout,Flatten,Dense,BatchNormalization ,GlobalAveragePooling2D\n",
        "from tensorflow.keras.models import Sequential\n",
        "from tensorflow.keras.preprocessing.image import ImageDataGenerator\n",
        "import keras\n"
      ],
      "metadata": {
        "id": "I48AhJcGXd-b"
      },
      "execution_count": 14,
      "outputs": []
    },
    {
      "cell_type": "markdown",
      "source": [
        "Preparing our data using Data Generator"
      ],
      "metadata": {
        "id": "bguqeCoCTT8_"
      }
    },
    {
      "cell_type": "code",
      "source": [
        "from tensorflow.keras.preprocessing.image import ImageDataGenerator"
      ],
      "metadata": {
        "id": "Put_VQ3AU5oT"
      },
      "execution_count": 15,
      "outputs": []
    },
    {
      "cell_type": "code",
      "source": [
        "from tensorflow.keras.preprocessing.image import ImageDataGenerator\n",
        "train_data=ImageDataGenerator(\n",
        "    rescale=1./255,\n",
        "    shear_range=0.2,\n",
        "    zoom_range=0.2,\n",
        "    horizontal_flip=True\n",
        ")\n",
        "train_data=train_data.flow_from_directory(\n",
        "    directory=\"/content/train\",\n",
        "    target_size=(224,224),\n",
        "    batch_size=32,\n",
        "    class_mode=\"binary\"\n",
        ")\n",
        "\n",
        "train_data.class_indices"
      ],
      "metadata": {
        "colab": {
          "base_uri": "https://localhost:8080/"
        },
        "id": "MNciAHQsVGmm",
        "outputId": "2b5289b0-080c-45e3-954e-07df5da7ea37"
      },
      "execution_count": 16,
      "outputs": [
        {
          "output_type": "stream",
          "name": "stdout",
          "text": [
            "Found 166 images belonging to 2 classes.\n"
          ]
        },
        {
          "output_type": "execute_result",
          "data": {
            "text/plain": [
              "{'no': 0, 'yes': 1}"
            ]
          },
          "metadata": {},
          "execution_count": 16
        }
      ]
    },
    {
      "cell_type": "code",
      "source": [
        "def preprocessingImages2(path):\n",
        "  \"\"\"\n",
        "  input:Path\n",
        "  output: Pre processed images\n",
        "  \"\"\"\n",
        "  image_data=ImageDataGenerator(\n",
        "    preprocessing_function= preprocess_input()\n",
        "  )\n",
        "  image=image_data.flow_from_directory(\n",
        "      directory=path,\n",
        "      target_size=(224,224),\n",
        "      batch_size=32,\n",
        "      class_mode=\"binary\"\n",
        "  )\n",
        "  return image"
      ],
      "metadata": {
        "id": "G_pM2IXTWjT_"
      },
      "execution_count": 17,
      "outputs": []
    },
    {
      "cell_type": "code",
      "execution_count": 18,
      "metadata": {
        "id": "IUnhhtwtxu9k"
      },
      "outputs": [],
      "source": [
        "import os\n",
        "import numpy as np\n",
        "import shutil\n",
        "import math\n",
        "#count the number of images in respective classes 0-Yes and 1-No\n",
        "ROOT_DIR=\"/content/brain_tumor_dataset\"\n",
        "number_of_images={}\n",
        "\n",
        "for dir in os.listdir(ROOT_DIR):\n",
        "  number_of_images[dir]=len(os.listdir(os.path.join(ROOT_DIR,dir)))\n",
        "\n",
        "\n",
        "  number_of_images.items()"
      ]
    },
    {
      "cell_type": "markdown",
      "metadata": {
        "id": "kMiQB-ZqyW1C"
      },
      "source": []
    },
    {
      "cell_type": "markdown",
      "metadata": {
        "id": "SgzLE6ECyOY8"
      },
      "source": [
        "Model Build"
      ]
    },
    {
      "cell_type": "code",
      "execution_count": null,
      "metadata": {
        "id": "hyb9lbzJySPj"
      },
      "outputs": [],
      "source": [
        "from tensorflow.keras.layers import Conv2D,MaxPooling2D,Dropout,Flatten,Dense,BatchNormalization ,GlobalAveragePooling2D\n",
        "from tensorflow.keras.models import Sequential\n",
        "from tensorflow.keras.preprocessing.image import ImageDataGenerator\n",
        "#from keras.callbacks import ModelCheckpoint,EarlyStopping,ReduceLROnPlateau\n",
        "#my_model=Sequential()\n",
        "import keras"
      ]
    },
    {
      "cell_type": "code",
      "execution_count": 19,
      "metadata": {
        "id": "-v1dd_GRy813",
        "colab": {
          "base_uri": "https://localhost:8080/",
          "height": 513
        },
        "outputId": "8233a177-9740-4b19-866b-b83ff3c59bd6"
      },
      "outputs": [
        {
          "output_type": "display_data",
          "data": {
            "text/plain": [
              "\u001b[1mModel: \"sequential\"\u001b[0m\n"
            ],
            "text/html": [
              "<pre style=\"white-space:pre;overflow-x:auto;line-height:normal;font-family:Menlo,'DejaVu Sans Mono',consolas,'Courier New',monospace\"><span style=\"font-weight: bold\">Model: \"sequential\"</span>\n",
              "</pre>\n"
            ]
          },
          "metadata": {}
        },
        {
          "output_type": "display_data",
          "data": {
            "text/plain": [
              "┏━━━━━━━━━━━━━━━━━━━━━━━━━━━━━━━━━━━━━━┳━━━━━━━━━━━━━━━━━━━━━━━━━━━━━┳━━━━━━━━━━━━━━━━━┓\n",
              "┃\u001b[1m \u001b[0m\u001b[1mLayer (type)                        \u001b[0m\u001b[1m \u001b[0m┃\u001b[1m \u001b[0m\u001b[1mOutput Shape               \u001b[0m\u001b[1m \u001b[0m┃\u001b[1m \u001b[0m\u001b[1m        Param #\u001b[0m\u001b[1m \u001b[0m┃\n",
              "┡━━━━━━━━━━━━━━━━━━━━━━━━━━━━━━━━━━━━━━╇━━━━━━━━━━━━━━━━━━━━━━━━━━━━━╇━━━━━━━━━━━━━━━━━┩\n",
              "│ conv2d (\u001b[38;5;33mConv2D\u001b[0m)                      │ (\u001b[38;5;45mNone\u001b[0m, \u001b[38;5;34m224\u001b[0m, \u001b[38;5;34m224\u001b[0m, \u001b[38;5;34m16\u001b[0m)        │             \u001b[38;5;34m448\u001b[0m │\n",
              "├──────────────────────────────────────┼─────────────────────────────┼─────────────────┤\n",
              "│ conv2d_1 (\u001b[38;5;33mConv2D\u001b[0m)                    │ (\u001b[38;5;45mNone\u001b[0m, \u001b[38;5;34m222\u001b[0m, \u001b[38;5;34m222\u001b[0m, \u001b[38;5;34m36\u001b[0m)        │           \u001b[38;5;34m5,220\u001b[0m │\n",
              "├──────────────────────────────────────┼─────────────────────────────┼─────────────────┤\n",
              "│ max_pooling2d (\u001b[38;5;33mMaxPooling2D\u001b[0m)         │ (\u001b[38;5;45mNone\u001b[0m, \u001b[38;5;34m111\u001b[0m, \u001b[38;5;34m111\u001b[0m, \u001b[38;5;34m36\u001b[0m)        │               \u001b[38;5;34m0\u001b[0m │\n",
              "├──────────────────────────────────────┼─────────────────────────────┼─────────────────┤\n",
              "│ conv2d_2 (\u001b[38;5;33mConv2D\u001b[0m)                    │ (\u001b[38;5;45mNone\u001b[0m, \u001b[38;5;34m109\u001b[0m, \u001b[38;5;34m109\u001b[0m, \u001b[38;5;34m64\u001b[0m)        │          \u001b[38;5;34m20,800\u001b[0m │\n",
              "├──────────────────────────────────────┼─────────────────────────────┼─────────────────┤\n",
              "│ max_pooling2d_1 (\u001b[38;5;33mMaxPooling2D\u001b[0m)       │ (\u001b[38;5;45mNone\u001b[0m, \u001b[38;5;34m54\u001b[0m, \u001b[38;5;34m54\u001b[0m, \u001b[38;5;34m64\u001b[0m)          │               \u001b[38;5;34m0\u001b[0m │\n",
              "├──────────────────────────────────────┼─────────────────────────────┼─────────────────┤\n",
              "│ conv2d_3 (\u001b[38;5;33mConv2D\u001b[0m)                    │ (\u001b[38;5;45mNone\u001b[0m, \u001b[38;5;34m52\u001b[0m, \u001b[38;5;34m52\u001b[0m, \u001b[38;5;34m128\u001b[0m)         │          \u001b[38;5;34m73,856\u001b[0m │\n",
              "├──────────────────────────────────────┼─────────────────────────────┼─────────────────┤\n",
              "│ max_pooling2d_2 (\u001b[38;5;33mMaxPooling2D\u001b[0m)       │ (\u001b[38;5;45mNone\u001b[0m, \u001b[38;5;34m26\u001b[0m, \u001b[38;5;34m26\u001b[0m, \u001b[38;5;34m128\u001b[0m)         │               \u001b[38;5;34m0\u001b[0m │\n",
              "├──────────────────────────────────────┼─────────────────────────────┼─────────────────┤\n",
              "│ dropout (\u001b[38;5;33mDropout\u001b[0m)                    │ (\u001b[38;5;45mNone\u001b[0m, \u001b[38;5;34m26\u001b[0m, \u001b[38;5;34m26\u001b[0m, \u001b[38;5;34m128\u001b[0m)         │               \u001b[38;5;34m0\u001b[0m │\n",
              "├──────────────────────────────────────┼─────────────────────────────┼─────────────────┤\n",
              "│ flatten (\u001b[38;5;33mFlatten\u001b[0m)                    │ (\u001b[38;5;45mNone\u001b[0m, \u001b[38;5;34m86528\u001b[0m)               │               \u001b[38;5;34m0\u001b[0m │\n",
              "├──────────────────────────────────────┼─────────────────────────────┼─────────────────┤\n",
              "│ dense (\u001b[38;5;33mDense\u001b[0m)                        │ (\u001b[38;5;45mNone\u001b[0m, \u001b[38;5;34m64\u001b[0m)                  │       \u001b[38;5;34m5,537,856\u001b[0m │\n",
              "├──────────────────────────────────────┼─────────────────────────────┼─────────────────┤\n",
              "│ dropout_1 (\u001b[38;5;33mDropout\u001b[0m)                  │ (\u001b[38;5;45mNone\u001b[0m, \u001b[38;5;34m64\u001b[0m)                  │               \u001b[38;5;34m0\u001b[0m │\n",
              "├──────────────────────────────────────┼─────────────────────────────┼─────────────────┤\n",
              "│ dense_1 (\u001b[38;5;33mDense\u001b[0m)                      │ (\u001b[38;5;45mNone\u001b[0m, \u001b[38;5;34m1\u001b[0m)                   │              \u001b[38;5;34m65\u001b[0m │\n",
              "└──────────────────────────────────────┴─────────────────────────────┴─────────────────┘\n"
            ],
            "text/html": [
              "<pre style=\"white-space:pre;overflow-x:auto;line-height:normal;font-family:Menlo,'DejaVu Sans Mono',consolas,'Courier New',monospace\">┏━━━━━━━━━━━━━━━━━━━━━━━━━━━━━━━━━━━━━━┳━━━━━━━━━━━━━━━━━━━━━━━━━━━━━┳━━━━━━━━━━━━━━━━━┓\n",
              "┃<span style=\"font-weight: bold\"> Layer (type)                         </span>┃<span style=\"font-weight: bold\"> Output Shape                </span>┃<span style=\"font-weight: bold\">         Param # </span>┃\n",
              "┡━━━━━━━━━━━━━━━━━━━━━━━━━━━━━━━━━━━━━━╇━━━━━━━━━━━━━━━━━━━━━━━━━━━━━╇━━━━━━━━━━━━━━━━━┩\n",
              "│ conv2d (<span style=\"color: #0087ff; text-decoration-color: #0087ff\">Conv2D</span>)                      │ (<span style=\"color: #00d7ff; text-decoration-color: #00d7ff\">None</span>, <span style=\"color: #00af00; text-decoration-color: #00af00\">224</span>, <span style=\"color: #00af00; text-decoration-color: #00af00\">224</span>, <span style=\"color: #00af00; text-decoration-color: #00af00\">16</span>)        │             <span style=\"color: #00af00; text-decoration-color: #00af00\">448</span> │\n",
              "├──────────────────────────────────────┼─────────────────────────────┼─────────────────┤\n",
              "│ conv2d_1 (<span style=\"color: #0087ff; text-decoration-color: #0087ff\">Conv2D</span>)                    │ (<span style=\"color: #00d7ff; text-decoration-color: #00d7ff\">None</span>, <span style=\"color: #00af00; text-decoration-color: #00af00\">222</span>, <span style=\"color: #00af00; text-decoration-color: #00af00\">222</span>, <span style=\"color: #00af00; text-decoration-color: #00af00\">36</span>)        │           <span style=\"color: #00af00; text-decoration-color: #00af00\">5,220</span> │\n",
              "├──────────────────────────────────────┼─────────────────────────────┼─────────────────┤\n",
              "│ max_pooling2d (<span style=\"color: #0087ff; text-decoration-color: #0087ff\">MaxPooling2D</span>)         │ (<span style=\"color: #00d7ff; text-decoration-color: #00d7ff\">None</span>, <span style=\"color: #00af00; text-decoration-color: #00af00\">111</span>, <span style=\"color: #00af00; text-decoration-color: #00af00\">111</span>, <span style=\"color: #00af00; text-decoration-color: #00af00\">36</span>)        │               <span style=\"color: #00af00; text-decoration-color: #00af00\">0</span> │\n",
              "├──────────────────────────────────────┼─────────────────────────────┼─────────────────┤\n",
              "│ conv2d_2 (<span style=\"color: #0087ff; text-decoration-color: #0087ff\">Conv2D</span>)                    │ (<span style=\"color: #00d7ff; text-decoration-color: #00d7ff\">None</span>, <span style=\"color: #00af00; text-decoration-color: #00af00\">109</span>, <span style=\"color: #00af00; text-decoration-color: #00af00\">109</span>, <span style=\"color: #00af00; text-decoration-color: #00af00\">64</span>)        │          <span style=\"color: #00af00; text-decoration-color: #00af00\">20,800</span> │\n",
              "├──────────────────────────────────────┼─────────────────────────────┼─────────────────┤\n",
              "│ max_pooling2d_1 (<span style=\"color: #0087ff; text-decoration-color: #0087ff\">MaxPooling2D</span>)       │ (<span style=\"color: #00d7ff; text-decoration-color: #00d7ff\">None</span>, <span style=\"color: #00af00; text-decoration-color: #00af00\">54</span>, <span style=\"color: #00af00; text-decoration-color: #00af00\">54</span>, <span style=\"color: #00af00; text-decoration-color: #00af00\">64</span>)          │               <span style=\"color: #00af00; text-decoration-color: #00af00\">0</span> │\n",
              "├──────────────────────────────────────┼─────────────────────────────┼─────────────────┤\n",
              "│ conv2d_3 (<span style=\"color: #0087ff; text-decoration-color: #0087ff\">Conv2D</span>)                    │ (<span style=\"color: #00d7ff; text-decoration-color: #00d7ff\">None</span>, <span style=\"color: #00af00; text-decoration-color: #00af00\">52</span>, <span style=\"color: #00af00; text-decoration-color: #00af00\">52</span>, <span style=\"color: #00af00; text-decoration-color: #00af00\">128</span>)         │          <span style=\"color: #00af00; text-decoration-color: #00af00\">73,856</span> │\n",
              "├──────────────────────────────────────┼─────────────────────────────┼─────────────────┤\n",
              "│ max_pooling2d_2 (<span style=\"color: #0087ff; text-decoration-color: #0087ff\">MaxPooling2D</span>)       │ (<span style=\"color: #00d7ff; text-decoration-color: #00d7ff\">None</span>, <span style=\"color: #00af00; text-decoration-color: #00af00\">26</span>, <span style=\"color: #00af00; text-decoration-color: #00af00\">26</span>, <span style=\"color: #00af00; text-decoration-color: #00af00\">128</span>)         │               <span style=\"color: #00af00; text-decoration-color: #00af00\">0</span> │\n",
              "├──────────────────────────────────────┼─────────────────────────────┼─────────────────┤\n",
              "│ dropout (<span style=\"color: #0087ff; text-decoration-color: #0087ff\">Dropout</span>)                    │ (<span style=\"color: #00d7ff; text-decoration-color: #00d7ff\">None</span>, <span style=\"color: #00af00; text-decoration-color: #00af00\">26</span>, <span style=\"color: #00af00; text-decoration-color: #00af00\">26</span>, <span style=\"color: #00af00; text-decoration-color: #00af00\">128</span>)         │               <span style=\"color: #00af00; text-decoration-color: #00af00\">0</span> │\n",
              "├──────────────────────────────────────┼─────────────────────────────┼─────────────────┤\n",
              "│ flatten (<span style=\"color: #0087ff; text-decoration-color: #0087ff\">Flatten</span>)                    │ (<span style=\"color: #00d7ff; text-decoration-color: #00d7ff\">None</span>, <span style=\"color: #00af00; text-decoration-color: #00af00\">86528</span>)               │               <span style=\"color: #00af00; text-decoration-color: #00af00\">0</span> │\n",
              "├──────────────────────────────────────┼─────────────────────────────┼─────────────────┤\n",
              "│ dense (<span style=\"color: #0087ff; text-decoration-color: #0087ff\">Dense</span>)                        │ (<span style=\"color: #00d7ff; text-decoration-color: #00d7ff\">None</span>, <span style=\"color: #00af00; text-decoration-color: #00af00\">64</span>)                  │       <span style=\"color: #00af00; text-decoration-color: #00af00\">5,537,856</span> │\n",
              "├──────────────────────────────────────┼─────────────────────────────┼─────────────────┤\n",
              "│ dropout_1 (<span style=\"color: #0087ff; text-decoration-color: #0087ff\">Dropout</span>)                  │ (<span style=\"color: #00d7ff; text-decoration-color: #00d7ff\">None</span>, <span style=\"color: #00af00; text-decoration-color: #00af00\">64</span>)                  │               <span style=\"color: #00af00; text-decoration-color: #00af00\">0</span> │\n",
              "├──────────────────────────────────────┼─────────────────────────────┼─────────────────┤\n",
              "│ dense_1 (<span style=\"color: #0087ff; text-decoration-color: #0087ff\">Dense</span>)                      │ (<span style=\"color: #00d7ff; text-decoration-color: #00d7ff\">None</span>, <span style=\"color: #00af00; text-decoration-color: #00af00\">1</span>)                   │              <span style=\"color: #00af00; text-decoration-color: #00af00\">65</span> │\n",
              "└──────────────────────────────────────┴─────────────────────────────┴─────────────────┘\n",
              "</pre>\n"
            ]
          },
          "metadata": {}
        },
        {
          "output_type": "display_data",
          "data": {
            "text/plain": [
              "\u001b[1m Total params: \u001b[0m\u001b[38;5;34m5,638,245\u001b[0m (21.51 MB)\n"
            ],
            "text/html": [
              "<pre style=\"white-space:pre;overflow-x:auto;line-height:normal;font-family:Menlo,'DejaVu Sans Mono',consolas,'Courier New',monospace\"><span style=\"font-weight: bold\"> Total params: </span><span style=\"color: #00af00; text-decoration-color: #00af00\">5,638,245</span> (21.51 MB)\n",
              "</pre>\n"
            ]
          },
          "metadata": {}
        },
        {
          "output_type": "display_data",
          "data": {
            "text/plain": [
              "\u001b[1m Trainable params: \u001b[0m\u001b[38;5;34m5,638,245\u001b[0m (21.51 MB)\n"
            ],
            "text/html": [
              "<pre style=\"white-space:pre;overflow-x:auto;line-height:normal;font-family:Menlo,'DejaVu Sans Mono',consolas,'Courier New',monospace\"><span style=\"font-weight: bold\"> Trainable params: </span><span style=\"color: #00af00; text-decoration-color: #00af00\">5,638,245</span> (21.51 MB)\n",
              "</pre>\n"
            ]
          },
          "metadata": {}
        },
        {
          "output_type": "display_data",
          "data": {
            "text/plain": [
              "\u001b[1m Non-trainable params: \u001b[0m\u001b[38;5;34m0\u001b[0m (0.00 B)\n"
            ],
            "text/html": [
              "<pre style=\"white-space:pre;overflow-x:auto;line-height:normal;font-family:Menlo,'DejaVu Sans Mono',consolas,'Courier New',monospace\"><span style=\"font-weight: bold\"> Non-trainable params: </span><span style=\"color: #00af00; text-decoration-color: #00af00\">0</span> (0.00 B)\n",
              "</pre>\n"
            ]
          },
          "metadata": {}
        }
      ],
      "source": [
        "#CNN Model\n",
        "from tensorflow.keras import Sequential\n",
        "from tensorflow.keras.layers import Input,Flatten,Dense,BatchNormalization ,GlobalAveragePooling2D\n",
        "model= Sequential()\n",
        "\n",
        "model.add(Conv2D(filters=16,kernel_size=(3,3),activation=\"relu\",input_shape=(224,224,3),padding='same'))\n",
        "\n",
        "model.add(Conv2D(filters=36,kernel_size=(3,3),activation=\"relu\"))\n",
        "model.add(MaxPooling2D(pool_size=(2,2)))\n",
        "\n",
        "model.add(Conv2D(filters=64,kernel_size=(3,3),activation=\"relu\"))\n",
        "model.add(MaxPooling2D(pool_size=(2,2)))\n",
        "\n",
        "model.add(Conv2D(filters=128,kernel_size=(3,3),activation=\"relu\"))\n",
        "model.add(MaxPooling2D(pool_size=(2,2)))\n",
        "\n",
        "model.add(Dropout(rate=0.25))\n",
        "\n",
        "model.add(Flatten())\n",
        "#model.add(Input(shape=(10,)))\n",
        "model.add(Dense(units=64,activation=\"relu\"))\n",
        "model.add(Dropout(rate=0.25))\n",
        "model.add(Dense(units=1,activation=\"sigmoid\"))\n",
        "\n",
        "model.compile(optimizer=\"adam\",loss=\"binary_crossentropy\",metrics=[\"accuracy\"])\n",
        "model.summary()"
      ]
    },
    {
      "cell_type": "code",
      "execution_count": 20,
      "metadata": {
        "id": "WYNHQLaY1ijw"
      },
      "outputs": [],
      "source": [
        "from tensorflow import keras\n",
        "model.compile(optimizer='adam',loss='binary_crossentropy',metrics=['accuracy'])"
      ]
    },
    {
      "cell_type": "markdown",
      "metadata": {
        "id": "SamOUgyr2nHy"
      },
      "source": [
        "Preparing our Data Generator"
      ]
    },
    {
      "cell_type": "code",
      "execution_count": 21,
      "metadata": {
        "id": "UTXKZDtx2uuF"
      },
      "outputs": [],
      "source": [
        "def preprocessingImages1(path):\n",
        "  \"\"\"\n",
        "  input:Path\n",
        "  output: Pre processed images\n",
        "  \"\"\"\n",
        "  #data augmentation\n",
        "  image_data =ImageDataGenerator(\n",
        "      rescale=1/255,\n",
        "      shear_range=0.2,\n",
        "      zoom_range=0.2,\n",
        "      horizontal_flip=True\n",
        "  )\n",
        "  image = image_data.flow_from_directory(\n",
        "      directory=path,\n",
        "      target_size=(224,224),\n",
        "      batch_size=32,\n",
        "      class_mode=\"binary\"\n",
        "  )\n",
        "  return image"
      ]
    },
    {
      "cell_type": "code",
      "execution_count": 22,
      "metadata": {
        "id": "H_JmfyHA3nc5",
        "colab": {
          "base_uri": "https://localhost:8080/"
        },
        "outputId": "07067da0-d385-47b5-9330-b40281213fc1"
      },
      "outputs": [
        {
          "output_type": "stream",
          "name": "stdout",
          "text": [
            "Found 166 images belonging to 2 classes.\n"
          ]
        }
      ],
      "source": [
        "path=\"/content/train\"\n",
        "train_data=preprocessingImages1(path)"
      ]
    },
    {
      "cell_type": "code",
      "execution_count": 26,
      "metadata": {
        "id": "F5Ph4g_h30jw"
      },
      "outputs": [],
      "source": [
        "def preprocessingImages2(path):\n",
        "  \"\"\"\n",
        "  input:Path\n",
        "  output: Pre processed images\n",
        "  \"\"\"\n",
        "  image_data =ImageDataGenerator(\n",
        "      rescale=1/255,\n",
        "\n",
        "  )\n",
        "  image = image_data.flow_from_directory(\n",
        "      directory=path,\n",
        "      target_size=(224,224),\n",
        "      batch_size=32,\n",
        "      class_mode=\"binary\"\n",
        "  )\n",
        "  return image"
      ]
    },
    {
      "cell_type": "code",
      "execution_count": 27,
      "metadata": {
        "id": "V1GXUQJn4C7h",
        "colab": {
          "base_uri": "https://localhost:8080/"
        },
        "outputId": "ff7dfb57-d928-4018-cea7-740e883ac5ae"
      },
      "outputs": [
        {
          "output_type": "stream",
          "name": "stdout",
          "text": [
            "Found 27 images belonging to 2 classes.\n"
          ]
        }
      ],
      "source": [
        "path=\"/content/test\"\n",
        "test_data=preprocessingImages2(path)"
      ]
    },
    {
      "cell_type": "code",
      "execution_count": 32,
      "metadata": {
        "id": "NqjuW5l04P8d",
        "colab": {
          "base_uri": "https://localhost:8080/"
        },
        "outputId": "beb1046c-fcad-4a85-e5fc-326d1ab54889"
      },
      "outputs": [
        {
          "output_type": "stream",
          "name": "stdout",
          "text": [
            "Found 27 images belonging to 2 classes.\n"
          ]
        }
      ],
      "source": [
        "path=\"/content/val\"\n",
        "val_data=preprocessingImages2(path)"
      ]
    },
    {
      "cell_type": "code",
      "source": [
        "import tensorflow as tf\n",
        "print(tf.__version__)"
      ],
      "metadata": {
        "colab": {
          "base_uri": "https://localhost:8080/"
        },
        "id": "uuvUWaClM3nA",
        "outputId": "a94129eb-b927-4c6c-e190-1d685f9a3e36"
      },
      "execution_count": 33,
      "outputs": [
        {
          "output_type": "stream",
          "name": "stdout",
          "text": [
            "2.17.0\n"
          ]
        }
      ]
    },
    {
      "cell_type": "code",
      "source": [
        "import os\n",
        "print(f\"Current Working Directory: {os.getcwd()}\")\n",
        "print(f\"File Exists: {os.path.exists('./bestmodel.keras')}\")"
      ],
      "metadata": {
        "colab": {
          "base_uri": "https://localhost:8080/"
        },
        "id": "ShMlfDfIPxKN",
        "outputId": "66166f07-d087-4a60-bc07-2bb8b5e06087"
      },
      "execution_count": 34,
      "outputs": [
        {
          "output_type": "stream",
          "name": "stdout",
          "text": [
            "Current Working Directory: /content\n",
            "File Exists: False\n"
          ]
        }
      ]
    },
    {
      "cell_type": "code",
      "execution_count": 46,
      "metadata": {
        "id": "zRNSIU8A4mC6"
      },
      "outputs": [],
      "source": [
        "#Early stopping and model check point\n",
        "from tensorflow.keras.models import Sequential\n",
        "from tensorflow.keras.layers import *\n",
        "from tensorflow.keras.callbacks import ModelCheckpoint,EarlyStopping\n",
        "\n",
        "# early stopping\n",
        "\n",
        "es=EarlyStopping(monitor=\"val_accuracy\",min_delta=0.01,patience=5,verbose=1,mode='auto')\n",
        "\n",
        "\n",
        "# model check point\n",
        "mc=ModelCheckpoint(monitor=\"val_accuracy\",filepath=\"bestmodel.keras\",verbose=1, save_best_only=True,mode='max',save_weights_only=False)\n",
        "\n",
        "cd=[es,mc]\n",
        "\n",
        "# early stopping\n",
        "\n",
        "#es=EarlyStopping(monitor=\"val_accuracy\",min_delta=0.01,patience=5,verbose=1,mode='auto')\n",
        "\n",
        "\n",
        "# model check point\n",
        "#mc=ModelCheckpoint(filepath=\"bestmodel.keras\",verbose=1, save_best_only=False,mode='auto',save_weights_only=False)\n",
        "\n",
        "cd=[es,mc]"
      ]
    },
    {
      "cell_type": "markdown",
      "source": [
        "Model Training"
      ],
      "metadata": {
        "id": "qtAlVhl-_mpb"
      }
    },
    {
      "cell_type": "code",
      "source": [
        "import os\n",
        "print(f\"Current Working Directory: {os.getcwd()}\")\n",
        "print(f\"File Exists: {os.path.exists('bestmodel.keras')}\")"
      ],
      "metadata": {
        "colab": {
          "base_uri": "https://localhost:8080/"
        },
        "id": "zkMZ1no1QQWv",
        "outputId": "9b597ceb-05d7-49d5-d466-26fa0ad8ffe9"
      },
      "execution_count": 47,
      "outputs": [
        {
          "output_type": "stream",
          "name": "stdout",
          "text": [
            "Current Working Directory: /content\n",
            "File Exists: False\n"
          ]
        }
      ]
    },
    {
      "cell_type": "code",
      "source": [
        "import numpy as np\n",
        "import tensorflow as tf\n",
        "from tensorflow import keras\n",
        "X_train = np.random.rand(100, 224,224,3)  # Example training data\n",
        "y_train = np.random.randint(0, 2, 100)  # Example training labels\n",
        "X_val = np.random.rand(20, 224,224,3)  # Example validation data\n",
        "y_val = np.random.randint(0, 2, 20)  # Example validation labels\n",
        "cb = [\n",
        "    tf.keras.callbacks.EarlyStopping(monitor='val_loss', patience=5),\n",
        "    tf.keras.callbacks.ModelCheckpoint(filepath=\"./bestmodel.keras\", monitor='val_loss', save_best_only=True, verbose=1)# Example callback\n",
        "]\n",
        "train_data=(X_train,y_train)\n",
        "validation_data=(X_val,y_val)\n",
        "hs=model.fit(\n",
        "    X_train,\n",
        "    y_train,\n",
        "    epochs=30,\n",
        "    validation_data=(X_val,y_val),\n",
        "    callbacks=cb)\n",
        "from tensorflow import keras\n",
        "\n",
        "best_model = keras.models.load_model(\"./bestmodel.keras\")\n",
        "best_model.save(\"./bestmodel.keras\")"
      ],
      "metadata": {
        "colab": {
          "base_uri": "https://localhost:8080/"
        },
        "id": "I6_KDq7L9yw0",
        "outputId": "47a7a46e-481a-48dd-f145-968e70f5f9d4"
      },
      "execution_count": 51,
      "outputs": [
        {
          "output_type": "stream",
          "name": "stdout",
          "text": [
            "Epoch 1/30\n",
            "\u001b[1m3/4\u001b[0m \u001b[32m━━━━━━━━━━━━━━━\u001b[0m\u001b[37m━━━━━\u001b[0m \u001b[1m0s\u001b[0m 100ms/step - accuracy: 0.5573 - loss: 0.6897\n",
            "Epoch 1: val_loss improved from inf to 0.69632, saving model to ./bestmodel.keras\n",
            "\u001b[1m4/4\u001b[0m \u001b[32m━━━━━━━━━━━━━━━━━━━━\u001b[0m\u001b[37m\u001b[0m \u001b[1m1s\u001b[0m 269ms/step - accuracy: 0.5344 - loss: 0.6909 - val_accuracy: 0.4500 - val_loss: 0.6963\n",
            "Epoch 2/30\n",
            "\u001b[1m3/4\u001b[0m \u001b[32m━━━━━━━━━━━━━━━\u001b[0m\u001b[37m━━━━━\u001b[0m \u001b[1m0s\u001b[0m 79ms/step - accuracy: 0.5503 - loss: 0.6905\n",
            "Epoch 2: val_loss did not improve from 0.69632\n",
            "\u001b[1m4/4\u001b[0m \u001b[32m━━━━━━━━━━━━━━━━━━━━\u001b[0m\u001b[37m\u001b[0m \u001b[1m1s\u001b[0m 90ms/step - accuracy: 0.5302 - loss: 0.6919 - val_accuracy: 0.4500 - val_loss: 0.6964\n",
            "Epoch 3/30\n",
            "\u001b[1m3/4\u001b[0m \u001b[32m━━━━━━━━━━━━━━━\u001b[0m\u001b[37m━━━━━\u001b[0m \u001b[1m0s\u001b[0m 81ms/step - accuracy: 0.5000 - loss: 0.6932\n",
            "Epoch 3: val_loss did not improve from 0.69632\n",
            "\u001b[1m4/4\u001b[0m \u001b[32m━━━━━━━━━━━━━━━━━━━━\u001b[0m\u001b[37m\u001b[0m \u001b[1m0s\u001b[0m 78ms/step - accuracy: 0.5000 - loss: 0.6932 - val_accuracy: 0.4500 - val_loss: 0.6964\n",
            "Epoch 4/30\n",
            "\u001b[1m3/4\u001b[0m \u001b[32m━━━━━━━━━━━━━━━\u001b[0m\u001b[37m━━━━━\u001b[0m \u001b[1m0s\u001b[0m 78ms/step - accuracy: 0.4948 - loss: 0.6930\n",
            "Epoch 4: val_loss did not improve from 0.69632\n",
            "\u001b[1m4/4\u001b[0m \u001b[32m━━━━━━━━━━━━━━━━━━━━\u001b[0m\u001b[37m\u001b[0m \u001b[1m1s\u001b[0m 70ms/step - accuracy: 0.4969 - loss: 0.6930 - val_accuracy: 0.4500 - val_loss: 0.6964\n",
            "Epoch 5/30\n",
            "\u001b[1m3/4\u001b[0m \u001b[32m━━━━━━━━━━━━━━━\u001b[0m\u001b[37m━━━━━\u001b[0m \u001b[1m0s\u001b[0m 92ms/step - accuracy: 0.4844 - loss: 0.6942\n",
            "Epoch 5: val_loss did not improve from 0.69632\n",
            "\u001b[1m4/4\u001b[0m \u001b[32m━━━━━━━━━━━━━━━━━━━━\u001b[0m\u001b[37m\u001b[0m \u001b[1m1s\u001b[0m 87ms/step - accuracy: 0.4906 - loss: 0.6938 - val_accuracy: 0.4500 - val_loss: 0.6964\n",
            "Epoch 6/30\n",
            "\u001b[1m3/4\u001b[0m \u001b[32m━━━━━━━━━━━━━━━\u001b[0m\u001b[37m━━━━━\u001b[0m \u001b[1m0s\u001b[0m 77ms/step - accuracy: 0.5417 - loss: 0.6919\n",
            "Epoch 6: val_loss did not improve from 0.69632\n",
            "\u001b[1m4/4\u001b[0m \u001b[32m━━━━━━━━━━━━━━━━━━━━\u001b[0m\u001b[37m\u001b[0m \u001b[1m0s\u001b[0m 69ms/step - accuracy: 0.5250 - loss: 0.6929 - val_accuracy: 0.4500 - val_loss: 0.6963\n"
          ]
        }
      ]
    },
    {
      "cell_type": "markdown",
      "source": [
        "Model Graphical Representation"
      ],
      "metadata": {
        "id": "NY95r43LB3Qj"
      }
    },
    {
      "cell_type": "code",
      "source": [
        "h=hs.history\n",
        "h.keys()"
      ],
      "metadata": {
        "colab": {
          "base_uri": "https://localhost:8080/"
        },
        "id": "0G3TH5hCB5LU",
        "outputId": "430b9b72-a6da-4f9b-bb54-ccb600837828"
      },
      "execution_count": 52,
      "outputs": [
        {
          "output_type": "execute_result",
          "data": {
            "text/plain": [
              "dict_keys(['accuracy', 'loss', 'val_accuracy', 'val_loss'])"
            ]
          },
          "metadata": {},
          "execution_count": 52
        }
      ]
    },
    {
      "cell_type": "code",
      "source": [
        "plt.plot(h['accuracy'])\n",
        "plt.plot(h['val_accuracy'],c='red')\n",
        "plt.title(\"acc vs v-acc\")\n",
        "plt.show()"
      ],
      "metadata": {
        "colab": {
          "base_uri": "https://localhost:8080/",
          "height": 452
        },
        "id": "zUGR7b1ICEzQ",
        "outputId": "8a1838f6-6dff-4991-b1a4-9f82fb5f1edd"
      },
      "execution_count": 53,
      "outputs": [
        {
          "output_type": "display_data",
          "data": {
            "text/plain": [
              "<Figure size 640x480 with 1 Axes>"
            ],
            "image/png": "[encoded data removed]"
          },
          "metadata": {}
        }
      ]
    },
    {
      "cell_type": "code",
      "source": [
        "plt.plot(h['loss'])\n",
        "plt.plot(h['val_loss'],c='red')\n",
        "plt.title(\"loss vs v-loss\")\n",
        "plt.show()"
      ],
      "metadata": {
        "colab": {
          "base_uri": "https://localhost:8080/",
          "height": 452
        },
        "id": "Vjd8w2hBCW7_",
        "outputId": "7a937a44-abd8-4347-83de-b2107290a840"
      },
      "execution_count": 54,
      "outputs": [
        {
          "output_type": "display_data",
          "data": {
            "text/plain": [
              "<Figure size 640x480 with 1 Axes>"
            ],
            "image/png": "[encoded data removed]"
          },
          "metadata": {}
        }
      ]
    },
    {
      "cell_type": "markdown",
      "source": [],
      "metadata": {
        "id": "10huq1NFHhe-"
      }
    },
    {
      "cell_type": "code",
      "source": [
        "#Model Accuracy\n",
        "from keras.models import load_model\n",
        "model=load_model(\"/content/bestmodel.keras\")"
      ],
      "metadata": {
        "id": "IRLlhtZOMyBo"
      },
      "execution_count": 55,
      "outputs": []
    },
    {
      "cell_type": "markdown",
      "source": [
        "Model Accuracy"
      ],
      "metadata": {
        "id": "TXTPFdSPNEmh"
      }
    },
    {
      "cell_type": "code",
      "source": [
        "acc=model.evaluate(test_data)[1]\n",
        "print(f\"Our Model Accuracy is {acc*100} %\")"
      ],
      "metadata": {
        "id": "z1vIyRQoNCy7",
        "colab": {
          "base_uri": "https://localhost:8080/"
        },
        "outputId": "a1577105-1191-4509-c937-7590d9bebba6"
      },
      "execution_count": 57,
      "outputs": [
        {
          "output_type": "stream",
          "name": "stdout",
          "text": [
            "\u001b[1m1/1\u001b[0m \u001b[32m━━━━━━━━━━━━━━━━━━━━\u001b[0m\u001b[37m\u001b[0m \u001b[1m4s\u001b[0m 4s/step - accuracy: 0.3333 - loss: 0.7024\n",
            "Our Model Accuracy is 33.33333432674408 %\n"
          ]
        }
      ]
    },
    {
      "cell_type": "code",
      "source": [
        "from keras.preprocessing.image import load_img,img_to_array"
      ],
      "metadata": {
        "id": "7On3sfszNgCK"
      },
      "execution_count": 58,
      "outputs": []
    },
    {
      "cell_type": "code",
      "source": [
        "import numpy as np\n",
        "path=\"/content/brain_tumor_dataset/no/19 no.jpg\"\n",
        "img=load_img(path,target_size=(224,224))\n",
        "input_arr=img_to_array(img)/255\n",
        "\n",
        "plt.imshow(input_arr)\n",
        "plt.show()\n",
        "\n",
        "input_arr.shape\n",
        "\n",
        "input_arr=np.expand_dims(input_arr,axis=0)\n",
        "\n",
        "pred = np.argmax(model.predict(input_arr),axis=-1)[0]\n",
        "#pred\n",
        "\n",
        "if pred==0:\n",
        "  print(\"the MRI is having a Tumor\")\n",
        "else:\n",
        "  print(\"the MRI is not having a Tumor\")"
      ],
      "metadata": {
        "id": "DstAp015NpCo",
        "colab": {
          "base_uri": "https://localhost:8080/",
          "height": 470
        },
        "outputId": "3c7c515c-5506-47d6-f7e3-ab2ee32864cc"
      },
      "execution_count": 67,
      "outputs": [
        {
          "output_type": "display_data",
          "data": {
            "text/plain": [
              "<Figure size 640x480 with 1 Axes>"
            ],
            "image/png": "[encoded data removed]"
          },
          "metadata": {}
        },
        {
          "output_type": "stream",
          "name": "stdout",
          "text": [
            "\u001b[1m1/1\u001b[0m \u001b[32m━━━━━━━━━━━━━━━━━━━━\u001b[0m\u001b[37m\u001b[0m \u001b[1m0s\u001b[0m 18ms/step\n",
            "the MRI is having a Tumor\n"
          ]
        }
      ]
    },
    {
      "cell_type": "code",
      "source": [
        "from tensorflow.keras.preprocessing.image import ImageDataGenerator\n",
        "train_data=ImageDataGenerator(\n",
        "    rescale=1./255,\n",
        "    shear_range=0.2,\n",
        "    zoom_range=0.2,\n",
        "    horizontal_flip=True\n",
        ")\n",
        "train_data=train_data.flow_from_directory(\n",
        "    directory=\"/content/train\",\n",
        "    target_size=(224,224),\n",
        "    batch_size=32,\n",
        "    class_mode=\"binary\"\n",
        ")\n",
        "train_data.class_indices"
      ],
      "metadata": {
        "id": "lVmzNOXdRAdi",
        "colab": {
          "base_uri": "https://localhost:8080/"
        },
        "outputId": "92ffd8f9-737c-4301-82c9-d2c0214feb98"
      },
      "execution_count": 65,
      "outputs": [
        {
          "output_type": "stream",
          "name": "stdout",
          "text": [
            "Found 166 images belonging to 2 classes.\n"
          ]
        },
        {
          "output_type": "execute_result",
          "data": {
            "text/plain": [
              "{'no': 0, 'yes': 1}"
            ]
          },
          "metadata": {},
          "execution_count": 65
        }
      ]
    }
  ],
  "metadata": {
    "colab": {
      "provenance": [],
      "gpuType": "T4"
    },
    "kernelspec": {
      "display_name": "Python 3",
      "name": "python3"
    },
    "language_info": {
      "name": "python"
    },
    "accelerator": "GPU"
  },
  "nbformat": 4,
  "nbformat_minor": 0
}